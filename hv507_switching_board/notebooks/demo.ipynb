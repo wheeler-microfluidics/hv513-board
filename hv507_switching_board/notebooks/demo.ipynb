{
 "cells": [
  {
   "cell_type": "markdown",
   "metadata": {},
   "source": [
    "# Flashing the firmware\n",
    "\n",
    "Uncomment and run the cell below to flash the hv507-switching-board firmware to an Arduino that is connected to the computer's serial port."
   ]
  },
  {
   "cell_type": "code",
   "execution_count": null,
   "metadata": {
    "collapsed": false
   },
   "outputs": [],
   "source": [
    "#!python -m hv507_switching_board.bin.upload uno"
   ]
  },
  {
   "cell_type": "code",
   "execution_count": 1,
   "metadata": {
    "collapsed": false
   },
   "outputs": [],
   "source": [
    "from hv507_switching_board import SerialProxy"
   ]
  },
  {
   "cell_type": "code",
   "execution_count": null,
   "metadata": {
    "collapsed": false
   },
   "outputs": [],
   "source": [
    "try:\n",
    "    # cleanup serial proxy object (if it exists)\n",
    "    proxy.terminate()\n",
    "except NameError:\n",
    "    pass\n",
    "\n",
    "# create a new serial proxy object\n",
    "proxy = SerialProxy()\n",
    "print proxy.properties\n",
    "print 'ram_free =', proxy.ram_free()"
   ]
  },
  {
   "cell_type": "code",
   "execution_count": null,
   "metadata": {
    "collapsed": true
   },
   "outputs": [],
   "source": []
  }
 ],
 "metadata": {
  "kernelspec": {
   "display_name": "Python 2",
   "language": "python",
   "name": "python2"
  },
  "language_info": {
   "codemirror_mode": {
    "name": "ipython",
    "version": 2
   },
   "file_extension": ".py",
   "mimetype": "text/x-python",
   "name": "python",
   "nbconvert_exporter": "python",
   "pygments_lexer": "ipython2",
   "version": "2.7.10"
  }
 },
 "nbformat": 4,
 "nbformat_minor": 0
}
