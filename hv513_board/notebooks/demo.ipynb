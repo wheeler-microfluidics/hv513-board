{
 "cells": [
  {
   "cell_type": "markdown",
   "metadata": {},
   "source": [
    "# Flashing the firmware\n",
    "\n",
    "Uncomment and run the cell below to flash the hv513-board firmware to an Arduino that is connected to the computer's serial port."
   ]
  },
  {
   "cell_type": "code",
   "execution_count": null,
   "metadata": {
    "collapsed": false
   },
   "outputs": [],
   "source": [
    "#!python -m hv513_board.bin.upload uno"
   ]
  },
  {
   "cell_type": "code",
   "execution_count": null,
   "metadata": {
    "collapsed": false
   },
   "outputs": [],
   "source": [
    "import numpy as np\n",
    "from hv513_board import SerialProxy"
   ]
  },
  {
   "cell_type": "code",
   "execution_count": null,
   "metadata": {
    "collapsed": false
   },
   "outputs": [],
   "source": [
    "try:\n",
    "    # cleanup serial proxy object (if it exists)\n",
    "    proxy.terminate()\n",
    "except NameError:\n",
    "    pass\n",
    "\n",
    "# create a new serial proxy object\n",
    "proxy = SerialProxy()\n",
    "print proxy.properties\n",
    "print 'ram_free =', proxy.ram_free()"
   ]
  },
  {
   "cell_type": "code",
   "execution_count": null,
   "metadata": {
    "collapsed": false
   },
   "outputs": [],
   "source": [
    "proxy.channel_count"
   ]
  },
  {
   "cell_type": "code",
   "execution_count": null,
   "metadata": {
    "collapsed": false
   },
   "outputs": [],
   "source": [
    "# this is the auto-generated accessor of the state_of_channels byte array\n",
    "proxy._state_of_channels()"
   ]
  },
  {
   "cell_type": "code",
   "execution_count": null,
   "metadata": {
    "collapsed": false
   },
   "outputs": [],
   "source": [
    "# set the state of all channels high using the auto-generated setter\n",
    "proxy._set_state_of_channels([255] * (proxy.channel_count / 8))\n",
    "proxy._state_of_channels()"
   ]
  },
  {
   "cell_type": "code",
   "execution_count": null,
   "metadata": {
    "collapsed": false
   },
   "outputs": [],
   "source": [
    "# access the state of channels through the new wrapped \"property\"\n",
    "# (each byte in this array represents a single channel; 0 is low and 1 is high)\n",
    "proxy.state_of_channels"
   ]
  },
  {
   "cell_type": "code",
   "execution_count": null,
   "metadata": {
    "collapsed": false
   },
   "outputs": [],
   "source": [
    "# set all channels to zero using the new wrapped \"property\"\n",
    "proxy.state_of_channels = np.zeros(proxy.channel_count, dtype=np.uint8)\n",
    "proxy.state_of_channels"
   ]
  },
  {
   "cell_type": "code",
   "execution_count": null,
   "metadata": {
    "collapsed": false
   },
   "outputs": [],
   "source": [
    "# set all channels to one using the new wrapped \"property\"\n",
    "proxy.state_of_channels = np.ones(proxy.channel_count, dtype=np.uint8)\n",
    "proxy.state_of_channels"
   ]
  },
  {
   "cell_type": "code",
   "execution_count": null,
   "metadata": {
    "collapsed": false
   },
   "outputs": [],
   "source": [
    "# reset the config fields to their defaults and print them\n",
    "proxy.reset_config()\n",
    "config = proxy.config\n",
    "for k in config.DESCRIPTOR.fields_by_name.keys():\n",
    "    exec('print \"%s =\", config.%s' % (k, k))"
   ]
  },
  {
   "cell_type": "code",
   "execution_count": null,
   "metadata": {
    "collapsed": false
   },
   "outputs": [],
   "source": [
    "# update some of the config fields (including custom fields)\n",
    "proxy.update_config(i2c_address=10, serial_number=1, max_waveform_voltage=100)\n",
    "\n",
    "# print all config fields\n",
    "config = proxy.config\n",
    "for k in config.DESCRIPTOR.fields_by_name.keys():\n",
    "    exec('print \"%s =\", config.%s' % (k, k))"
   ]
  },
  {
   "cell_type": "code",
   "execution_count": null,
   "metadata": {
    "collapsed": true
   },
   "outputs": [],
   "source": []
  }
 ],
 "metadata": {
  "kernelspec": {
   "display_name": "Python 2",
   "language": "python",
   "name": "python2"
  },
  "language_info": {
   "codemirror_mode": {
    "name": "ipython",
    "version": 2
   },
   "file_extension": ".py",
   "mimetype": "text/x-python",
   "name": "python",
   "nbconvert_exporter": "python",
   "pygments_lexer": "ipython2",
   "version": "2.7.10"
  }
 },
 "nbformat": 4,
 "nbformat_minor": 0
}
